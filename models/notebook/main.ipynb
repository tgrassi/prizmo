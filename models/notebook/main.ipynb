{
 "cells": [
  {
   "cell_type": "code",
   "execution_count": null,
   "id": "789cf80c",
   "metadata": {},
   "outputs": [],
   "source": [
    "from ctypes import cdll, c_double, POINTER, c_int\n",
    "import numpy as np\n",
    "import matplotlib.pyplot as plt\n"
   ]
  },
  {
   "cell_type": "code",
   "execution_count": null,
   "id": "24e18e7e",
   "metadata": {},
   "outputs": [],
   "source": [
    "# load the shared library\n",
    "lib = cdll.LoadLibrary(\"./libprizmo.so\")"
   ]
  },
  {
   "cell_type": "code",
   "execution_count": null,
   "id": "45ae1695",
   "metadata": {},
   "outputs": [],
   "source": [
    "# define the init function\n",
    "lib.prizmo_init_c.argtypes = None\n",
    "lib.prizmo_init_c.restype = None\n",
    "lib.prizmo_init_c()"
   ]
  },
  {
   "cell_type": "code",
   "execution_count": null,
   "id": "6a081577",
   "metadata": {},
   "outputs": [],
   "source": [
    "#  define prizmo_evolve_c(x, Tgas, jflux, dt, verboseChem, errState)\n",
    "lib.prizmo_evolve_c.argtypes = [POINTER(c_double), POINTER(c_double), POINTER(c_double), POINTER(c_double), POINTER(c_int), POINTER(c_int)]\n",
    "lib.prizmo_evolve_c.restype = None\n",
    "\n",
    "# wrapper function for evolve\n",
    "def evolve(x, Tgas, jflux, dt):\n",
    "    x = (c_double * len(x))(*x)\n",
    "    jflux = (c_double * len(jflux))(*jflux)\n",
    "\n",
    "    tgas = c_double(Tgas)\n",
    "\n",
    "    ierr = 0\n",
    "    verboseChem = 0\n",
    "\n",
    "    lib.prizmo_evolve_c(\n",
    "        x,\n",
    "        tgas,\n",
    "        jflux,\n",
    "        c_double(dt),\n",
    "        c_int(verboseChem),\n",
    "        c_int(ierr)\n",
    "    )\n",
    "\n",
    "    return np.array(list(x)), tgas.value"
   ]
  },
  {
   "cell_type": "code",
   "execution_count": null,
   "id": "fbfea3fc",
   "metadata": {},
   "outputs": [],
   "source": [
    "# hardcoded values from prizmo_commons.f90\n",
    "nspecies = 33\n",
    "nphoto = 1000\n",
    "\n",
    "# hardcoded values from prizmo_commons.f90 (note F90 arrays are 1-indexed)\n",
    "idx_Cj = 13\n",
    "idx_E = 14\n",
    "idx_H2 = 16\n",
    "idx_O = 27\n",
    "\n",
    "seconds_per_year = 365. * 24 * 3600\n",
    "\n",
    "# abundances in cm^-3\n",
    "x = np.zeros(nspecies)\n",
    "x[idx_Cj] = 1e-4  # C+\n",
    "x[idx_E] = 1e-4   # e-\n",
    "x[idx_H2] = 1e0  # H2\n",
    "x[idx_O] = 2e-4   # O\n",
    "\n",
    "# scale to total number density of 1e4 cm^-3\n",
    "x *= 1e4\n",
    "\n",
    "Tgas = 1e2 # gas temperature in K\n",
    "jflux = np.zeros(nphoto) + 1e-40  # negligible radiation field\n",
    "\n",
    "dt = 1e-1 * seconds_per_year  # initial time, s\n",
    "tend = 1e6 * seconds_per_year # end time, s\n",
    "\n",
    "# arrays to store results\n",
    "all_x_Cj = []\n",
    "all_x_E = []\n",
    "all_tgas = []\n",
    "tt = []\n",
    "\n",
    "# initial time, s\n",
    "t = 0e0\n",
    "\n",
    "while True:\n",
    "    dt = min(dt*1.3, tend)\n",
    "    x, Tgas = evolve(x, Tgas, jflux, dt)\n",
    "\n",
    "    t += dt\n",
    "\n",
    "    all_x_Cj.append(x[idx_Cj])\n",
    "    all_x_E.append(x[idx_E])\n",
    "    all_tgas.append(Tgas)\n",
    "    tt.append(t)\n",
    "\n",
    "    if t >= tend:\n",
    "        break\n",
    "\n",
    "\n",
    "# Convert lists to numpy arrays for easier handling\n",
    "all_x_Cj = np.array(all_x_Cj)\n",
    "all_x_E = np.array(all_x_E)\n",
    "all_tgas = np.array(all_tgas)\n",
    "tt = np.array(tt)"
   ]
  },
  {
   "cell_type": "code",
   "execution_count": null,
   "id": "5e3b3354",
   "metadata": {},
   "outputs": [],
   "source": [
    "plt.plot(tt / seconds_per_year, all_x_Cj, label='C+')\n",
    "plt.plot(tt / seconds_per_year, all_x_E, label='e-')\n",
    "plt.plot(tt / seconds_per_year, all_tgas, label='Tgas')\n",
    "plt.xlabel('Time (s)')\n",
    "plt.ylabel('Abundance and Temperature')\n",
    "plt.legend()\n",
    "plt.xscale('log')\n",
    "plt.yscale('log')\n"
   ]
  },
  {
   "cell_type": "code",
   "execution_count": null,
   "id": "5b905947",
   "metadata": {},
   "outputs": [],
   "source": [
    "#(x, Tgas, Tdust, jflux, cools)\n",
    "lib.prizmo_get_cooling_array_c.argtypes = [POINTER(c_double), POINTER(c_double), POINTER(c_double), POINTER(c_double), POINTER(c_double)]\n",
    "lib.prizmo_get_cooling_array_c.restype = None\n",
    "\n",
    "def get_cooling_array(x, Tgas, Tdust, jflux):\n",
    "    x = (c_double * len(x))(*x)  # Convert to a C array\n",
    "    jflux = (c_double * len(jflux))(*jflux)  # Convert to a C array\n",
    "\n",
    "    cools = [0.0] * 5  # Initialize a list for cooling values\n",
    "    cools = (c_double * len(cools))(*cools)  # Create an array to hold cooling values\n",
    "\n",
    "    lib.prizmo_get_cooling_array_c(\n",
    "        x,\n",
    "        c_double(Tgas),\n",
    "        c_double(Tdust),\n",
    "        jflux,\n",
    "        cools\n",
    "    )\n",
    "\n",
    "    return np.array(list(cools))  # Convert to a Python list"
   ]
  },
  {
   "cell_type": "code",
   "execution_count": null,
   "id": "1bc7c209",
   "metadata": {},
   "outputs": [],
   "source": []
  }
 ],
 "metadata": {
  "kernelspec": {
   "display_name": "base",
   "language": "python",
   "name": "python3"
  },
  "language_info": {
   "codemirror_mode": {
    "name": "ipython",
    "version": 3
   },
   "file_extension": ".py",
   "mimetype": "text/x-python",
   "name": "python",
   "nbconvert_exporter": "python",
   "pygments_lexer": "ipython3",
   "version": "3.9.7"
  }
 },
 "nbformat": 4,
 "nbformat_minor": 5
}
